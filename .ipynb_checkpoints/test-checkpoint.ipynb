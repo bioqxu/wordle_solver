{
 "cells": [
  {
   "cell_type": "code",
   "execution_count": 2,
   "id": "e0d8398d",
   "metadata": {},
   "outputs": [],
   "source": [
    "import re\n"
   ]
  },
  {
   "cell_type": "code",
   "execution_count": 6,
   "id": "33fcfc54",
   "metadata": {},
   "outputs": [],
   "source": [
    "# https://wordlegame.org/\n"
   ]
  },
  {
   "cell_type": "code",
   "execution_count": null,
   "id": "45ba68d0",
   "metadata": {},
   "outputs": [],
   "source": []
  },
  {
   "cell_type": "code",
   "execution_count": 7,
   "id": "27e83766",
   "metadata": {},
   "outputs": [
    {
     "data": {
      "text/plain": [
       "3"
      ]
     },
     "execution_count": 7,
     "metadata": {},
     "output_type": "execute_result"
    }
   ],
   "source": [
    "'sasdasd'.count('s')"
   ]
  },
  {
   "cell_type": "code",
   "execution_count": 4,
   "id": "87e55540",
   "metadata": {},
   "outputs": [],
   "source": [
    "\n",
    "def do_black(words_now, l, input_word, p):\n",
    "    w=[]\n",
    "    if input_word.count(l) == 1:\n",
    "        for i in words_now:\n",
    "            if re.search(l, i) is None:\n",
    "                w.append(i)\n",
    "    else:\n",
    "        \n",
    "    return w\n",
    "\n",
    "def do_yellow(words_now, l, input_word, p):\n",
    "    w=[]\n",
    "    for i in words_now:\n",
    "        if re.search(l, i) is not None and i[p]!=l:\n",
    "            w.append(i)\n",
    "    return w\n",
    "\n",
    "def do_green(words_now, l, input_word, p):\n",
    "    w=[]\n",
    "    for i in words_now:\n",
    "        if i[p] == l:\n",
    "            w.append(i)\n",
    "    return w\n",
    "\n",
    "def do_guess(words_now, input_word, input_color):\n",
    "    for i,j in enumerate(zip(input_word, input_color)):\n",
    "        if j[1] == 'b':\n",
    "            words_now = do_black(words_now, j[0], j[1], i)\n",
    "        if j[1] == 'y':\n",
    "            words_now = do_yellow(words_now, j[0], j[1], i)\n",
    "        if j[1] == 'g':\n",
    "            words_now = do_green(words_now, j[0], j[1], i)\n",
    "    input_word = words_now[0]\n",
    "    return words_now, input_word\n",
    "\n",
    "def pass_word(words_now):\n",
    "    words_now = words_now[1:]\n",
    "    input_word = words_now[0]\n",
    "    return words_now, input_word\n",
    "\n",
    "def read_words(WORD_LENGTH):\n",
    "    words = []\n",
    "    with open(\"data/words.txt\") as f:\n",
    "        next(f)\n",
    "        for line in f:\n",
    "            words.append(line.split()[0])\n",
    "    # all_words = [i.lower() for i in words if len(i)==WORD_LENGTH and len(set(i))==WORD_LENGTH]\n",
    "    all_words = [i.lower() for i in words if len(i)==WORD_LENGTH]\n",
    "    return all_words\n",
    "\n",
    "def main():\n",
    "    WORD_LENGTH = 5\n",
    "    guess_times = 1\n",
    "    all_words = read_words(WORD_LENGTH)\n",
    "    input_word = all_words[0]\n",
    "    print(f\"#{guess_times} Guess Word is: \\x1b[6;30;42m{input_word}\\x1b[0m\")\n",
    "    while True:\n",
    "        guess_times += 1\n",
    "        input_color = input(\"Please enter a color string (5 letters) \\n(b is gray; y is yellow; g is green): \")\n",
    "        if input_color == 'no':\n",
    "            all_words, input_word = pass_word(all_words)\n",
    "            print(f\"\\n#{guess_times} Guess Word is: \\x1b[6;30;42m{input_word}\\x1b[0m\")\n",
    "            guess_times -= 1\n",
    "            continue\n",
    "        elif len(input_color) != WORD_LENGTH or any(x not in ['b', 'y', 'g'] for x in input_color):\n",
    "            print(\"Sorry, your input should be 'no'(not valid word) or '5 byg string'(the color of output)\")\n",
    "            print(\"(b is gray; y is yellow; g is green)\\n\")\n",
    "            continue\n",
    "        all_words, input_word = do_guess(all_words, input_word, input_color)\n",
    "        print(f\"\\n#{guess_times} Guess Word is: \\x1b[6;30;42m{input_word}\\x1b[0m\")\n",
    "        \n",
    "\n",
    "\n"
   ]
  },
  {
   "cell_type": "code",
   "execution_count": 5,
   "id": "2ffc3dc3",
   "metadata": {},
   "outputs": [
    {
     "name": "stdout",
     "output_type": "stream",
     "text": [
      "#1 Guess Word is: \u001b[6;30;42mthere\u001b[0m\n",
      "Please enter a color string (5 letters) \n",
      "(b is gray; y is yellow; g is green): bbbbb\n",
      "\n",
      "#2 Guess Word is: \u001b[6;30;42mgoing\u001b[0m\n",
      "Please enter a color string (5 letters) \n",
      "(b is gray; y is yellow; g is green): bbybb\n",
      "\n",
      "#3 Guess Word is: \u001b[6;30;42mmusic\u001b[0m\n",
      "Please enter a color string (5 letters) \n",
      "(b is gray; y is yellow; g is green): byybb\n"
     ]
    },
    {
     "ename": "IndexError",
     "evalue": "list index out of range",
     "output_type": "error",
     "traceback": [
      "\u001b[0;31m---------------------------------------------------------------------------\u001b[0m",
      "\u001b[0;31mIndexError\u001b[0m                                Traceback (most recent call last)",
      "\u001b[0;32m<ipython-input-5-972361fa1b80>\u001b[0m in \u001b[0;36m<module>\u001b[0;34m\u001b[0m\n\u001b[1;32m      1\u001b[0m \u001b[0;32mif\u001b[0m \u001b[0m__name__\u001b[0m \u001b[0;34m==\u001b[0m \u001b[0;34m\"__main__\"\u001b[0m\u001b[0;34m:\u001b[0m\u001b[0;34m\u001b[0m\u001b[0;34m\u001b[0m\u001b[0m\n\u001b[0;32m----> 2\u001b[0;31m     \u001b[0mmain\u001b[0m\u001b[0;34m(\u001b[0m\u001b[0;34m)\u001b[0m\u001b[0;34m\u001b[0m\u001b[0;34m\u001b[0m\u001b[0m\n\u001b[0m",
      "\u001b[0;32m<ipython-input-4-259041878c0b>\u001b[0m in \u001b[0;36mmain\u001b[0;34m()\u001b[0m\n\u001b[1;32m     64\u001b[0m             \u001b[0mprint\u001b[0m\u001b[0;34m(\u001b[0m\u001b[0;34m\"(b is gray; y is yellow; g is green)\\n\"\u001b[0m\u001b[0;34m)\u001b[0m\u001b[0;34m\u001b[0m\u001b[0;34m\u001b[0m\u001b[0m\n\u001b[1;32m     65\u001b[0m             \u001b[0;32mcontinue\u001b[0m\u001b[0;34m\u001b[0m\u001b[0;34m\u001b[0m\u001b[0m\n\u001b[0;32m---> 66\u001b[0;31m         \u001b[0mall_words\u001b[0m\u001b[0;34m,\u001b[0m \u001b[0minput_word\u001b[0m \u001b[0;34m=\u001b[0m \u001b[0mdo_guess\u001b[0m\u001b[0;34m(\u001b[0m\u001b[0mall_words\u001b[0m\u001b[0;34m,\u001b[0m \u001b[0minput_word\u001b[0m\u001b[0;34m,\u001b[0m \u001b[0minput_color\u001b[0m\u001b[0;34m)\u001b[0m\u001b[0;34m\u001b[0m\u001b[0;34m\u001b[0m\u001b[0m\n\u001b[0m\u001b[1;32m     67\u001b[0m         \u001b[0mprint\u001b[0m\u001b[0;34m(\u001b[0m\u001b[0;34mf\"\\n#{guess_times} Guess Word is: \\x1b[6;30;42m{input_word}\\x1b[0m\"\u001b[0m\u001b[0;34m)\u001b[0m\u001b[0;34m\u001b[0m\u001b[0;34m\u001b[0m\u001b[0m\n\u001b[1;32m     68\u001b[0m \u001b[0;34m\u001b[0m\u001b[0m\n",
      "\u001b[0;32m<ipython-input-4-259041878c0b>\u001b[0m in \u001b[0;36mdo_guess\u001b[0;34m(words_now, input_word, input_color)\u001b[0m\n\u001b[1;32m     28\u001b[0m         \u001b[0;32mif\u001b[0m \u001b[0mj\u001b[0m\u001b[0;34m[\u001b[0m\u001b[0;36m1\u001b[0m\u001b[0;34m]\u001b[0m \u001b[0;34m==\u001b[0m \u001b[0;34m'g'\u001b[0m\u001b[0;34m:\u001b[0m\u001b[0;34m\u001b[0m\u001b[0;34m\u001b[0m\u001b[0m\n\u001b[1;32m     29\u001b[0m             \u001b[0mwords_now\u001b[0m \u001b[0;34m=\u001b[0m \u001b[0mdo_green\u001b[0m\u001b[0;34m(\u001b[0m\u001b[0mwords_now\u001b[0m\u001b[0;34m,\u001b[0m \u001b[0mj\u001b[0m\u001b[0;34m[\u001b[0m\u001b[0;36m0\u001b[0m\u001b[0;34m]\u001b[0m\u001b[0;34m,\u001b[0m \u001b[0mi\u001b[0m\u001b[0;34m)\u001b[0m\u001b[0;34m\u001b[0m\u001b[0;34m\u001b[0m\u001b[0m\n\u001b[0;32m---> 30\u001b[0;31m     \u001b[0minput_word\u001b[0m \u001b[0;34m=\u001b[0m \u001b[0mwords_now\u001b[0m\u001b[0;34m[\u001b[0m\u001b[0;36m0\u001b[0m\u001b[0;34m]\u001b[0m\u001b[0;34m\u001b[0m\u001b[0;34m\u001b[0m\u001b[0m\n\u001b[0m\u001b[1;32m     31\u001b[0m     \u001b[0;32mreturn\u001b[0m \u001b[0mwords_now\u001b[0m\u001b[0;34m,\u001b[0m \u001b[0minput_word\u001b[0m\u001b[0;34m\u001b[0m\u001b[0;34m\u001b[0m\u001b[0m\n\u001b[1;32m     32\u001b[0m \u001b[0;34m\u001b[0m\u001b[0m\n",
      "\u001b[0;31mIndexError\u001b[0m: list index out of range"
     ]
    }
   ],
   "source": [
    "if __name__ == \"__main__\":\n",
    "    main()\n"
   ]
  },
  {
   "cell_type": "code",
   "execution_count": null,
   "id": "0e6ece42",
   "metadata": {},
   "outputs": [],
   "source": []
  }
 ],
 "metadata": {
  "kernelspec": {
   "display_name": "py3",
   "language": "python",
   "name": "py3"
  },
  "language_info": {
   "codemirror_mode": {
    "name": "ipython",
    "version": 3
   },
   "file_extension": ".py",
   "mimetype": "text/x-python",
   "name": "python",
   "nbconvert_exporter": "python",
   "pygments_lexer": "ipython3",
   "version": "3.9.4"
  }
 },
 "nbformat": 4,
 "nbformat_minor": 5
}
